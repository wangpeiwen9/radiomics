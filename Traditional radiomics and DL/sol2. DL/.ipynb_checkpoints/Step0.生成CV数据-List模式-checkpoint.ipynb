version https://git-lfs.github.com/spec/v1
oid sha256:de146927e6139254e3c902becf96b3ac20fea19931dd829668001f3e07544168
size 11637
